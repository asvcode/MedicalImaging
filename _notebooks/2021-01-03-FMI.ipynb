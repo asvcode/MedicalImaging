{
 "cells": [
  {
   "cell_type": "markdown",
   "metadata": {},
   "source": [
    "# \"fmi: A library that adds additional functionality to fastai's medical imaging module\"\n",
    "> \"fmi is a library built on top of fastai and adds additional functionality to fastai's medical imaging module\"\n",
    "- toc: true\n",
    "- branch: master\n",
    "- badges: true\n",
    "- comments: true\n",
    "- categories: [medical_imaging, fmi, dicoms]\n",
    "- image: images/logo1.PNG"
   ]
  },
  {
   "cell_type": "markdown",
   "metadata": {},
   "source": [
    "![fmi](my_icons/graphic6_sm.png)"
   ]
  },
  {
   "cell_type": "markdown",
   "metadata": {},
   "source": [
    "`fmi` is a library built on top of `fastai` and adds additional functionality to fastai's medical imaging module.\n",
    "\n",
    "[fmi on github](https://github.com/asvcode/fmi)\n",
    "\n",
    "[fmi documentation](https://asvcode.github.io/fmi_docs/)"
   ]
  },
  {
   "cell_type": "code",
   "execution_count": null,
   "metadata": {},
   "outputs": [],
   "source": []
  }
 ],
 "metadata": {
  "kernelspec": {
   "display_name": "Python 3",
   "language": "python",
   "name": "python3"
  },
  "language_info": {
   "codemirror_mode": {
    "name": "ipython",
    "version": 3
   },
   "file_extension": ".py",
   "mimetype": "text/x-python",
   "name": "python",
   "nbconvert_exporter": "python",
   "pygments_lexer": "ipython3",
   "version": "3.7.9"
  }
 },
 "nbformat": 4,
 "nbformat_minor": 4
}
