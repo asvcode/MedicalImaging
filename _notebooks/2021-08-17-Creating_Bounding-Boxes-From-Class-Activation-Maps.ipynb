{
 "cells": [
  {
   "cell_type": "markdown",
   "id": "933a7d4a",
   "metadata": {},
   "source": [
    "# \"Creating Bounding Boxes from Class Activation Maps \"\n",
    "> \"Step by step tutorial on how to create bounding boxes from Class Activation Maps\"\n",
    "- toc: true\n",
    "- branch: master\n",
    "- badges: true\n",
    "- comments: true\n",
    "- categories: [cmaps, medical_imaging, dicoms, bounding_boxes]\n",
    "- image: images/bb.PNG"
   ]
  },
  {
   "cell_type": "markdown",
   "id": "66195f7c",
   "metadata": {},
   "source": [
    "This notebook uses the approach of generating bounding boxes from Class Activation Maps (CAM). CAM was introduced by Bolei Zhou et al. in the paper [Learning Deep Features for Discriminative Localization](https://arxiv.org/abs/1512.04150) and is a great tool for model interpretation.\n",
    "\n",
    "Grad CAM is a variation of CAM that was introduced in [Grad-CAM: Why Did You Say That? Visual Explanations from Deep Networks via Gradient-based Localization](https://arxiv.org/abs/1611.07450)\n",
    "\n",
    "Grad CAM is similar to CAM in that it is a weighted combination of feature maps but followed by a ReLU. The output of Grad CAM is a “class-discriminative localization map” where the hot part of the heatmap corresponds to a particular class."
   ]
  },
  {
   "cell_type": "code",
   "execution_count": 3,
   "id": "eea75cbb",
   "metadata": {},
   "outputs": [],
   "source": [
    "#hide\n",
    "from fastai.vision.all import *\n",
    "from fastai.medical.imaging import *\n",
    "from fmi.preprocessing import *\n",
    "from fmi.train import *\n",
    "from fmi.examine import *\n",
    "import pydicom\n",
    "\n",
    "matplotlib.rcParams['image.cmap'] = 'viridis'"
   ]
  },
  {
   "cell_type": "markdown",
   "id": "17526129",
   "metadata": {},
   "source": [
    "CAM uses the output of the last convolutional layer to provide a heatmap visualization. A way of acccessing the activations during the training phase in Pytorch is done by using a hook. A hook is basically a function that is executed when either the forward or backward pass is called.\n",
    "\n",
    "`Fastai` conveniently has a `Hook` class"
   ]
  },
  {
   "cell_type": "code",
   "execution_count": 4,
   "id": "93e5281c",
   "metadata": {},
   "outputs": [],
   "source": [
    "class Hook():\n",
    "    def __init__(self, m):\n",
    "        self.hook = m.register_forward_hook(self.hook_func)   \n",
    "    def hook_func(self, m, i, o): self.stored = o.detach().clone()\n",
    "    def __enter__(self, *args): return self\n",
    "    def __exit__(self, *args): self.hook.remove()"
   ]
  },
  {
   "cell_type": "markdown",
   "id": "098bf0bb",
   "metadata": {},
   "source": [
    "The gradients of every layer are calculated by PyTorch during the backward pass. To access the gradients you can register a hook on the backward pass and store these gradients. \n",
    "\n",
    "Again conveniently `fastai` has the `HookBwd` class."
   ]
  },
  {
   "cell_type": "code",
   "execution_count": 5,
   "id": "df1cfd43",
   "metadata": {},
   "outputs": [],
   "source": [
    "class HookBwd():\n",
    "    def __init__(self, m):\n",
    "        self.hook = m.register_backward_hook(self.hook_func)   \n",
    "    def hook_func(self, m, gi, go): self.stored = go[0].detach().clone()\n",
    "    def __enter__(self, *args): return self\n",
    "    def __exit__(self, *args): self.hook.remove()"
   ]
  },
  {
   "cell_type": "code",
   "execution_count": null,
   "id": "63518aca",
   "metadata": {},
   "outputs": [],
   "source": []
  }
 ],
 "metadata": {
  "kernelspec": {
   "display_name": "Python 3",
   "language": "python",
   "name": "python3"
  },
  "language_info": {
   "codemirror_mode": {
    "name": "ipython",
    "version": 3
   },
   "file_extension": ".py",
   "mimetype": "text/x-python",
   "name": "python",
   "nbconvert_exporter": "python",
   "pygments_lexer": "ipython3",
   "version": "3.8.10"
  }
 },
 "nbformat": 4,
 "nbformat_minor": 5
}
