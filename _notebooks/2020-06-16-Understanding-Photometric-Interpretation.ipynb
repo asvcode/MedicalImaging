{
 "cells": [
  {
   "cell_type": "markdown",
   "metadata": {},
   "source": [
    "# \"Understanding Photometric Interpretation\"\n",
    "> \"Looking at dicom tag (0028, 0004) Photometric Interpretation\"\n",
    "- toc: true\n",
    "- branch: master\n",
    "- badges: true\n",
    "- comments: true\n",
    "- categories: [medical_imaging, dicom, fastai]\n",
    "- image: images/med_pix.PNG"
   ]
  },
  {
   "cell_type": "markdown",
   "metadata": {},
   "source": [
    "DICOM images allows for various relationships between the pixel data and how the image is displayed. The values are found in tag `(0028,0004)` which lists the `Photometric Interpretation` of the pixel data. "
   ]
  },
  {
   "cell_type": "code",
   "execution_count": null,
   "metadata": {},
   "outputs": [],
   "source": []
  }
 ],
 "metadata": {
  "kernelspec": {
   "display_name": "Python 3",
   "language": "python",
   "name": "python3"
  },
  "language_info": {
   "codemirror_mode": {
    "name": "ipython",
    "version": 3
   },
   "file_extension": ".py",
   "mimetype": "text/x-python",
   "name": "python",
   "nbconvert_exporter": "python",
   "pygments_lexer": "ipython3",
   "version": "3.7.6"
  }
 },
 "nbformat": 4,
 "nbformat_minor": 2
}
