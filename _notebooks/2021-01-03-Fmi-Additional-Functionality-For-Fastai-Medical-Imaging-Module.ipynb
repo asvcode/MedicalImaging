{
 "cells": [
  {
   "cell_type": "markdown",
   "metadata": {},
   "source": [
    "# \"Fmi: Additional Functionality For Fastai's Medical Imaging Module \"\n",
    "> \"fmi is a library built on top of fastai and adds additional functionality to fastai's medical imaging module\"\n",
    "- toc: true\n",
    "- branch: master\n",
    "- badges: true\n",
    "- comments: true\n",
    "- categories: [fmi, medical_imaging, dicoms, wearable]\n",
    "- image: images/circle.PNG"
   ]
  },
  {
   "cell_type": "markdown",
   "metadata": {},
   "source": [
    "### About"
   ]
  },
  {
   "cell_type": "markdown",
   "metadata": {},
   "source": [
    "`fmi` is a library built on top of `fastai` and adds additional functionality to fastai's medical imaging module.  This project is still a work in progress. \n",
    "\n",
    "> View the library on [Github](https://github.com/asvcode/fmi)"
   ]
  },
  {
   "cell_type": "markdown",
   "metadata": {},
   "source": [
    "### Installation"
   ]
  },
  {
   "cell_type": "markdown",
   "metadata": {},
   "source": [
    "`git clone https://github.com/asvcode/fmi.git`"
   ]
  },
  {
   "cell_type": "markdown",
   "metadata": {},
   "source": [
    "### Tutorials"
   ]
  },
  {
   "cell_type": "markdown",
   "metadata": {},
   "source": [
    "Here is a list of tutorials to get you stated with the `fmi` library\n",
    "\n",
    "[Create Bounding Boxes from Class Activation Maps](https://github.com/asvcode/fmi/blob/master/tutorial_nbs/bounding_box_generation.ipynb) - **New**\n",
    "\n",
    "[Medical Imaging Tutorial](https://github.com/asvcode/fmi/blob/master/tutorial_nbs/medical_imaging_tutorial.ipynb) - **Updated**\n",
    "\n",
    "[Explore & Preprocessing Tutorial](https://github.com/asvcode/fmi/blob/master/tutorial_nbs/explore_preprocessing_tutorial.ipynb)\n",
    "\n",
    "[Dicom Splitter Examples](https://github.com/asvcode/fmi/blob/master/tutorial_nbs/dicom_splitter_examples.ipynb)\n",
    "\n",
    "[Signal Processing Tutorial](https://github.com/asvcode/fmi/blob/master/tutorial_nbs/Signal_Processing_Tutorial.ipynb) - **Not Complete**"
   ]
  },
  {
   "cell_type": "code",
   "execution_count": null,
   "metadata": {},
   "outputs": [],
   "source": []
  }
 ],
 "metadata": {
  "kernelspec": {
   "display_name": "Python 3",
   "language": "python",
   "name": "python3"
  },
  "language_info": {
   "codemirror_mode": {
    "name": "ipython",
    "version": 3
   },
   "file_extension": ".py",
   "mimetype": "text/x-python",
   "name": "python",
   "nbconvert_exporter": "python",
   "pygments_lexer": "ipython3",
   "version": "3.8.10"
  }
 },
 "nbformat": 4,
 "nbformat_minor": 4
}
